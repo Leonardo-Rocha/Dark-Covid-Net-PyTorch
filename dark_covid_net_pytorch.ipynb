{
  "nbformat": 4,
  "nbformat_minor": 0,
  "metadata": {
    "colab": {
      "name": "dark-covid-net-pytorch.ipynb",
      "provenance": [],
      "collapsed_sections": [],
      "mount_file_id": "1GA-HRf_bZcHvFfo9MfCpIqSj4C9rWLh_",
      "authorship_tag": "ABX9TyOgLCjSaJ3OGxdHA3S5KCaW",
      "include_colab_link": true
    },
    "kernelspec": {
      "name": "python3",
      "display_name": "Python 3"
    },
    "accelerator": "GPU"
  },
  "cells": [
    {
      "cell_type": "markdown",
      "metadata": {
        "id": "view-in-github",
        "colab_type": "text"
      },
      "source": [
        "<a href=\"https://colab.research.google.com/github/Leonardo-Rocha/Dark-Covid-Net-PyTorch/blob/master/dark_covid_net_pytorch.ipynb\" target=\"_parent\"><img src=\"https://colab.research.google.com/assets/colab-badge.svg\" alt=\"Open In Colab\"/></a>"
      ]
    },
    {
      "cell_type": "code",
      "metadata": {
        "id": "5kCNNYtFCOE2",
        "colab_type": "code",
        "colab": {}
      },
      "source": [
        "import numpy as np\n",
        "import matplotlib.pyplot as plt\n",
        "import torch\n",
        "import torch.nn as nn\n",
        "import torch.optim as optim\n",
        "from torch.utils.data import DataLoader\n",
        "from torchvision import datasets, transforms\n",
        "# import torch.functional as F\n",
        "\n",
        "import sklearn.metrics as metrics\n",
        "from sklearn.model_selection import StratifiedKFold"
      ],
      "execution_count": 81,
      "outputs": []
    },
    {
      "cell_type": "markdown",
      "metadata": {
        "id": "SOrbVt3xjJSP",
        "colab_type": "text"
      },
      "source": [
        "Download dataset from github"
      ]
    },
    {
      "cell_type": "code",
      "metadata": {
        "id": "CcVoNUiLjNd2",
        "colab_type": "code",
        "colab": {
          "base_uri": "https://localhost:8080/",
          "height": 404
        },
        "outputId": "109f0d32-d62f-4b1b-aaf3-9d97cdf600fc"
      },
      "source": [
        "!wget https://codeload.github.com/muhammedtalo/COVID-19/zip/master\n",
        "!unzip /content/master "
      ],
      "execution_count": 82,
      "outputs": [
        {
          "output_type": "stream",
          "text": [
            "--2020-07-20 00:23:49--  https://codeload.github.com/muhammedtalo/COVID-19/zip/master\n",
            "Resolving codeload.github.com (codeload.github.com)... 140.82.112.10\n",
            "Connecting to codeload.github.com (codeload.github.com)|140.82.112.10|:443... connected.\n",
            "HTTP request sent, awaiting response... 200 OK\n",
            "Length: unspecified [application/zip]\n",
            "Saving to: ‘master.2’\n",
            "\n",
            "master.2                [              <=>   ] 398.37M  24.3MB/s    in 17s     \n",
            "\n",
            "2020-07-20 00:24:06 (23.3 MB/s) - ‘master.2’ saved [417716858]\n",
            "\n",
            "Archive:  /content/master\n",
            "8c645fb9b2b5340e7381c6d1ef4e21f182bfa1d9\n",
            "replace COVID-19-master/DarkCovidNet  for binary classes.ipynb? [y]es, [n]o, [A]ll, [N]one, [r]ename: n\n",
            "replace COVID-19-master/DarkCovidNet model for three classes.ipynb? [y]es, [n]o, [A]ll, [N]one, [r]ename: n\n",
            "replace COVID-19-master/README.md? [y]es, [n]o, [A]ll, [N]one, [r]ename: n\n",
            "replace COVID-19-master/X-Ray Image DataSet/Covid-19/01E392EE-69F9-4E33-BFCE-E5C968654078.jpeg? [y]es, [n]o, [A]ll, [N]one, [r]ename: n\n",
            "replace COVID-19-master/X-Ray Image DataSet/Covid-19/03BF7561-A9BA-4C3C-B8A0-D3E585F73F3C.jpeg? [y]es, [n]o, [A]ll, [N]one, [r]ename: n\n",
            "replace COVID-19-master/X-Ray Image DataSet/Covid-19/1-s2.0-S0140673620303706-fx1_lrg.jpg? [y]es, [n]o, [A]ll, [N]one, [r]ename: n\n",
            "replace COVID-19-master/X-Ray Image DataSet/Covid-19/1-s2.0-S0929664620300449-gr2_lrg-a.jpg? [y]es, [n]o, [A]ll, [N]one, [r]ename: "
          ],
          "name": "stdout"
        }
      ]
    },
    {
      "cell_type": "code",
      "metadata": {
        "id": "fXhCP8AMeX_j",
        "colab_type": "code",
        "colab": {}
      },
      "source": [
        "def evaluate(dl, model, criterion):\n",
        "    model.to(device)\n",
        "    model.eval()\n",
        "    lacc = []\n",
        "    lloss = []\n",
        "    with torch.no_grad():\n",
        "        for x, y in dl:\n",
        "            x = x.to(device)\n",
        "            pred = model(x)\n",
        "            loss = criterion(pred, y.to(device))\n",
        "            y_pred = pred.argmax(dim=1).cpu()\n",
        "            acc = metrics.accuracy_score(y, y_pred)\n",
        "            lacc.append(acc)\n",
        "            lloss.append(loss.item())\n",
        "    return np.mean(lacc), np.mean(lloss)"
      ],
      "execution_count": 83,
      "outputs": []
    },
    {
      "cell_type": "code",
      "metadata": {
        "id": "y9r7ZpRsebtF",
        "colab_type": "code",
        "colab": {}
      },
      "source": [
        "def train_model(dl, model, opt, criterion, device):\n",
        "    model.to(device)\n",
        "    model.train()\n",
        "    lloss = []\n",
        "    for x, y in dl:\n",
        "        x = x.to(device)\n",
        "        y = y.to(device)\n",
        "        pred = model(x)\n",
        "        loss = criterion(pred, y)\n",
        "        loss.backward()\n",
        "        opt.step()\n",
        "        opt.zero_grad()\n",
        "        lloss.append(loss.item())\n",
        "    print(' Training Loss: ', np.mean(lloss))"
      ],
      "execution_count": 84,
      "outputs": []
    },
    {
      "cell_type": "code",
      "metadata": {
        "id": "B0jgrEXHeiWB",
        "colab_type": "code",
        "colab": {}
      },
      "source": [
        "def conv_block(ni, nf, size=3, stride=1):\n",
        "    def for_pad(s): return s if s > 2 else 3\n",
        "    return nn.Sequential(\n",
        "        nn.Conv2d(ni, nf, kernel_size=size, stride=stride,\n",
        "                  padding=(for_pad(size) - 1)//2, bias=False),\n",
        "        nn.BatchNorm2d(nf),\n",
        "        nn.LeakyReLU(negative_slope=0.1, inplace=True),\n",
        "    )"
      ],
      "execution_count": 85,
      "outputs": []
    },
    {
      "cell_type": "code",
      "metadata": {
        "id": "oDbrcVMCelkC",
        "colab_type": "code",
        "colab": {}
      },
      "source": [
        "def triple_conv(ni, nf):\n",
        "    return nn.Sequential(\n",
        "        conv_block(ni, nf),\n",
        "        conv_block(nf, ni, size=1),\n",
        "        conv_block(ni, nf)\n",
        "    )"
      ],
      "execution_count": 86,
      "outputs": []
    },
    {
      "cell_type": "code",
      "metadata": {
        "id": "V3PljhiTeoCZ",
        "colab_type": "code",
        "colab": {}
      },
      "source": [
        "def maxpooling():\n",
        "    return nn.MaxPool2d(2, stride=2)"
      ],
      "execution_count": 87,
      "outputs": []
    },
    {
      "cell_type": "code",
      "metadata": {
        "id": "mTC_HBfYCZ6S",
        "colab_type": "code",
        "colab": {}
      },
      "source": [
        "def data_split(dataset, lists):\n",
        "    return [torch.utils.data.Subset(dataset, llist) for llist in lists]"
      ],
      "execution_count": 88,
      "outputs": []
    },
    {
      "cell_type": "code",
      "metadata": {
        "id": "ctnyXGLDCfXH",
        "colab_type": "code",
        "colab": {}
      },
      "source": [
        "class DarkCovidNet(nn.Module):\n",
        "    def __init__(self):\n",
        "        super(DarkCovidNet, self).__init__()\n",
        "        self.backbone = nn.Sequential(\n",
        "            conv_block(3, 8),\n",
        "            maxpooling(),\n",
        "            conv_block(8, 16),\n",
        "            maxpooling(),\n",
        "            triple_conv(16, 32),\n",
        "            maxpooling(),\n",
        "            triple_conv(32, 64),\n",
        "            maxpooling(),\n",
        "            triple_conv(64, 128),\n",
        "            maxpooling(),\n",
        "            triple_conv(128, 256),\n",
        "            conv_block(256, 128, size=1),\n",
        "            conv_block(128, 256),\n",
        "            conv_block(256, 3),\n",
        "            nn.Flatten(),\n",
        "            nn.Linear(507, 3)\n",
        "        )\n",
        "\n",
        "    def forward(self, x):\n",
        "        return self.backbone(x)"
      ],
      "execution_count": 89,
      "outputs": []
    },
    {
      "cell_type": "code",
      "metadata": {
        "id": "DxxAo43wCkBr",
        "colab_type": "code",
        "colab": {}
      },
      "source": [
        "NUM_SPLITS = 5\n",
        "MAX_EPOCHS = 10\n",
        "dataset_dir = '/content/COVID-19-master/X-Ray Image DataSet/'\n",
        "\n",
        "transform = transforms.Compose([\n",
        "    transforms.Resize(256),\n",
        "    transforms.CenterCrop(256),\n",
        "    transforms.ToTensor(),\n",
        "    transforms.Normalize((0.5,), (0.5,))])"
      ],
      "execution_count": 90,
      "outputs": []
    },
    {
      "cell_type": "code",
      "metadata": {
        "id": "TYLzGFbuCo1J",
        "colab_type": "code",
        "colab": {
          "base_uri": "https://localhost:8080/",
          "height": 36
        },
        "outputId": "3f64a00e-9848-40bf-e35b-8f7c340afed5"
      },
      "source": [
        "dataset = datasets.ImageFolder(dataset_dir, transform=transform)\n",
        "labels = [line[-1] for line in dataset.imgs]\n",
        "\n",
        "print(f'{dataset_dir}: ', end='')\n",
        "print(dataset.classes)"
      ],
      "execution_count": 91,
      "outputs": [
        {
          "output_type": "stream",
          "text": [
            "/content/COVID-19-master/X-Ray Image DataSet/: ['Covid-19', 'No_findings', 'Pneumonia']\n"
          ],
          "name": "stdout"
        }
      ]
    },
    {
      "cell_type": "code",
      "metadata": {
        "id": "IR65t4KscGst",
        "colab_type": "code",
        "colab": {
          "base_uri": "https://localhost:8080/",
          "height": 36
        },
        "outputId": "edf477aa-9464-49be-ec61-be0a8dca493a"
      },
      "source": [
        "device = torch.device(\n",
        "    'cuda') if torch.cuda.is_available() else torch.device('cpu')\n",
        "\n",
        "print(f'Executing on {device}')\n",
        "dl = DataLoader(dataset, batch_size=32, shuffle=True)\n",
        "\n",
        "data, class_att = next(iter(dl))"
      ],
      "execution_count": 92,
      "outputs": [
        {
          "output_type": "stream",
          "text": [
            "Executing on cuda\n"
          ],
          "name": "stdout"
        }
      ]
    },
    {
      "cell_type": "code",
      "metadata": {
        "id": "okFN8VK9cGwM",
        "colab_type": "code",
        "colab": {
          "base_uri": "https://localhost:8080/",
          "height": 308
        },
        "outputId": "a712540a-ef3d-4b28-80ba-50544ca498fc"
      },
      "source": [
        "plt.imshow(data[0].permute(1, 2, 0))"
      ],
      "execution_count": 93,
      "outputs": [
        {
          "output_type": "stream",
          "text": [
            "Clipping input data to the valid range for imshow with RGB data ([0..1] for floats or [0..255] for integers).\n"
          ],
          "name": "stderr"
        },
        {
          "output_type": "execute_result",
          "data": {
            "text/plain": [
              "<matplotlib.image.AxesImage at 0x7fa1eecf46a0>"
            ]
          },
          "metadata": {
            "tags": []
          },
          "execution_count": 93
        },
        {
          "output_type": "display_data",
          "data": {
            "image/png": "[encoded data removed]",
            "text/plain": [
              "<Figure size 432x288 with 1 Axes>"
            ]
          },
          "metadata": {
            "tags": [],
            "needs_background": "light"
          }
        }
      ]
    },
    {
      "cell_type": "code",
      "metadata": {
        "id": "kuHgjiAVcsoG",
        "colab_type": "code",
        "colab": {}
      },
      "source": [
        "model = DarkCovidNet()\n",
        "model.to(device)\n",
        "\n",
        "criterion = nn.CrossEntropyLoss()\n",
        "opt = optim.SGD(model.parameters(), lr=0.01)\n",
        "\n",
        "skf = StratifiedKFold(n_splits=NUM_SPLITS)"
      ],
      "execution_count": 94,
      "outputs": []
    },
    {
      "cell_type": "code",
      "metadata": {
        "id": "hce0x6Pfcyxi",
        "colab_type": "code",
        "colab": {
          "base_uri": "https://localhost:8080/",
          "height": 424
        },
        "outputId": "d85e9047-4397-4df8-e321-fc9e44af4c82"
      },
      "source": [
        "best_acc = 0\n",
        "num_fold = 0\n",
        "lacc = []\n",
        "for train_index, test_index in skf.split(range(len(dataset.imgs)), labels):\n",
        "    print(f'Fold {num_fold}:')\n",
        "\n",
        "    ds_train, ds_test = data_split(dataset, (train_index, test_index))\n",
        "\n",
        "    n = len(ds_train)\n",
        "    n_train = int(n*0.8)\n",
        "    n_dev = n - n_train\n",
        "    ds_train, ds_dev = torch.utils.data.random_split(\n",
        "        ds_train, (n_train, n_dev))\n",
        "\n",
        "    dl_train = torch.utils.data.DataLoader(ds_train, batch_size=300)\n",
        "    dl_dev = torch.utils.data.DataLoader(ds_dev, batch_size=300)\n",
        "    dl_test = torch.utils.data.DataLoader(ds_test, batch_size=300)\n",
        "\n",
        "    learly_stop_acc = 0.0\n",
        "    best_count = 0\n",
        "    epoch = 0\n",
        "\n",
        "    while best_count < 10:\n",
        "      print(f'Epoch {epoch}')\n",
        "      train_model(dl_train, model, opt, criterion, device)\n",
        "      (acc, loss) = evaluate(dl_dev, model, criterion)\n",
        "      epoch += 1\n",
        "      if acc > learly_stop_acc:\n",
        "        learly_stop_acc = acc\n",
        "        best_count = -1\n",
        "      best_count += 1\n",
        "      if epoch >= MAX_EPOCHS:\n",
        "        break\n",
        "\n",
        "    (acc, loss) = evaluate(dl_dev, model, criterion)\n",
        "    print(\"Valuation:\\n\\tAccuracy: %4.3f Loss: %4.3f\" % (acc, loss))\n",
        "    if acc > best_acc:\n",
        "      torch.save(model.state_dict(),'model.pth')\n",
        "      best_acc = acc\n",
        "    lacc.append(acc)\n",
        "\n",
        "print(\"\\nMean Accuracy: %4.3f +/- %4.3f\" % (np.mean(lacc), np.std(lacc)))"
      ],
      "execution_count": null,
      "outputs": [
        {
          "output_type": "stream",
          "text": [
            "Fold 0:\n",
            "Epoch 0\n",
            " Training Loss:  0.9994769891103109\n",
            "Epoch 1\n",
            " Training Loss:  0.8242617249488831\n",
            "Epoch 2\n",
            " Training Loss:  0.7403738498687744\n",
            "Epoch 3\n",
            " Training Loss:  0.6649618744850159\n",
            "Epoch 4\n",
            " Training Loss:  0.5907556017239889\n",
            "Epoch 5\n",
            " Training Loss:  0.5882736444473267\n",
            "Epoch 6\n",
            " Training Loss:  0.6097603042920431\n",
            "Epoch 7\n",
            " Training Loss:  0.49978283047676086\n",
            "Epoch 8\n",
            " Training Loss:  0.38121432065963745\n",
            "Epoch 9\n",
            " Training Loss:  0.3617979238430659\n"
          ],
          "name": "stdout"
        }
      ]
    }
  ]
}